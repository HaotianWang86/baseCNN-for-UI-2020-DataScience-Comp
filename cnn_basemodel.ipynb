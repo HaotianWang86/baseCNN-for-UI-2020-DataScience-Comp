{
  "nbformat": 4,
  "nbformat_minor": 0,
  "metadata": {
    "colab": {
      "name": "cnn.ipynb",
      "provenance": []
    },
    "kernelspec": {
      "name": "python3",
      "display_name": "Python 3"
    },
    "accelerator": "GPU"
  },
  "cells": [
    {
      "cell_type": "code",
      "metadata": {
        "id": "GmZUvuiYd31U",
        "colab_type": "code",
        "outputId": "d058d0a4-3f95-40d3-8b54-7f2b4a8f5153",
        "colab": {
          "base_uri": "https://localhost:8080/",
          "height": 34
        }
      },
      "source": [
        "### connect to colab-GPU machine\n",
        "from google.colab import drive\n",
        "drive.mount('/content/drive')"
      ],
      "execution_count": 1,
      "outputs": [
        {
          "output_type": "stream",
          "text": [
            "Drive already mounted at /content/drive; to attempt to forcibly remount, call drive.mount(\"/content/drive\", force_remount=True).\n"
          ],
          "name": "stdout"
        }
      ]
    },
    {
      "cell_type": "code",
      "metadata": {
        "id": "7BoiksmleMVf",
        "colab_type": "code",
        "outputId": "8bb5396c-5e4f-4aee-b29b-f86583eb44dc",
        "colab": {
          "base_uri": "https://localhost:8080/",
          "height": 79
        }
      },
      "source": [
        "# Load package\n",
        "from __future__ import print_function\n",
        "from sklearn.model_selection import train_test_split\n",
        "import keras\n",
        "from keras.layers import Dense, Conv2D, BatchNormalization, Activation\n",
        "from keras.layers import AveragePooling2D, Input, Flatten\n",
        "from keras.optimizers import Adam\n",
        "from keras.callbacks import ModelCheckpoint, LearningRateScheduler\n",
        "from keras.callbacks import ReduceLROnPlateau\n",
        "from keras.preprocessing.image import ImageDataGenerator\n",
        "from keras import backend as K\n",
        "from keras.models import Model\n",
        "import numpy as np\n",
        "\n",
        "import cv2\n",
        "import itertools\n",
        "from keras.utils.np_utils import to_categorical # convert to one-hot-encoding\n",
        "from keras.models import Sequential\n",
        "from keras.layers import Dense, Dropout, Flatten, Conv2D, MaxPool2D, MaxPooling2D,BatchNormalization\n",
        "from keras.optimizers import RMSprop\n",
        "from keras.preprocessing.image import ImageDataGenerator\n",
        "from keras.callbacks import ReduceLROnPlateau,ModelCheckpoint"
      ],
      "execution_count": 2,
      "outputs": [
        {
          "output_type": "stream",
          "text": [
            "Using TensorFlow backend.\n"
          ],
          "name": "stderr"
        },
        {
          "output_type": "display_data",
          "data": {
            "text/html": [
              "<p style=\"color: red;\">\n",
              "The default version of TensorFlow in Colab will switch to TensorFlow 2.x on the 27th of March, 2020.<br>\n",
              "We recommend you <a href=\"https://www.tensorflow.org/guide/migrate\" target=\"_blank\">upgrade</a> now\n",
              "or ensure your notebook will continue to use TensorFlow 1.x via the <code>%tensorflow_version 1.x</code> magic:\n",
              "<a href=\"https://colab.research.google.com/notebooks/tensorflow_version.ipynb\" target=\"_blank\">more info</a>.</p>\n"
            ],
            "text/plain": [
              "<IPython.core.display.HTML object>"
            ]
          },
          "metadata": {
            "tags": []
          }
        }
      ]
    },
    {
      "cell_type": "code",
      "metadata": {
        "id": "HZ_c8-nvYBzQ",
        "colab_type": "code",
        "colab": {
          "base_uri": "https://localhost:8080/",
          "height": 370
        },
        "outputId": "375dd4de-0014-4b2d-c0ac-f6899fc1dd00"
      },
      "source": [
        "# Download competition data to colab\n",
        "\n",
        "## if you have the data ignore this step\n",
        "!wget -c https://dscomp.nkn.uidaho.edu/datadownload/Competition_Train_data_8000.npy\n",
        "!wget -c https://dscomp.nkn.uidaho.edu/datadownload/Competition_Train_label_8000.npy\n",
        "\n",
        "!wget -c https://dscomp.nkn.uidaho.edu/datadownload/Competition_Problems.npy"
      ],
      "execution_count": 3,
      "outputs": [
        {
          "output_type": "stream",
          "text": [
            "--2020-03-30 22:04:07--  https://dscomp.nkn.uidaho.edu/datadownload/Competition_Train_data_8000.npy\n",
            "Resolving dscomp.nkn.uidaho.edu (dscomp.nkn.uidaho.edu)... 129.101.202.199\n",
            "Connecting to dscomp.nkn.uidaho.edu (dscomp.nkn.uidaho.edu)|129.101.202.199|:443... connected.\n",
            "HTTP request sent, awaiting response... 416 Requested Range Not Satisfiable\n",
            "\n",
            "    The file is already fully retrieved; nothing to do.\n",
            "\n",
            "--2020-03-30 22:04:08--  https://dscomp.nkn.uidaho.edu/datadownload/Competition_Train_label_8000.npy\n",
            "Resolving dscomp.nkn.uidaho.edu (dscomp.nkn.uidaho.edu)... 129.101.202.199\n",
            "Connecting to dscomp.nkn.uidaho.edu (dscomp.nkn.uidaho.edu)|129.101.202.199|:443... connected.\n",
            "HTTP request sent, awaiting response... 416 Requested Range Not Satisfiable\n",
            "\n",
            "    The file is already fully retrieved; nothing to do.\n",
            "\n",
            "--2020-03-30 22:04:09--  https://dscomp.nkn.uidaho.edu/datadownload/Competition_Problems.npy\n",
            "Resolving dscomp.nkn.uidaho.edu (dscomp.nkn.uidaho.edu)... 129.101.202.199\n",
            "Connecting to dscomp.nkn.uidaho.edu (dscomp.nkn.uidaho.edu)|129.101.202.199|:443... connected.\n",
            "HTTP request sent, awaiting response... 416 Requested Range Not Satisfiable\n",
            "\n",
            "    The file is already fully retrieved; nothing to do.\n",
            "\n"
          ],
          "name": "stdout"
        }
      ]
    },
    {
      "cell_type": "code",
      "metadata": {
        "id": "ENfPh3X3X7O1",
        "colab_type": "code",
        "colab": {
          "base_uri": "https://localhost:8080/",
          "height": 50
        },
        "outputId": "909addbb-38ec-49ea-e48e-66b99fdec94d"
      },
      "source": [
        "# load data\n",
        "\n",
        "### Train Data\n",
        "Train_data = np.load('Competition_Train_data_8000.npy')  # Your directory\n",
        "print(Train_data.shape)\n",
        "\n",
        "### Train Label\n",
        "Train_label = np.load('Competition_Train_label_8000.npy') \n",
        "print(Train_label.shape)"
      ],
      "execution_count": 4,
      "outputs": [
        {
          "output_type": "stream",
          "text": [
            "(8000, 64, 64)\n",
            "(8000,)\n"
          ],
          "name": "stdout"
        }
      ]
    },
    {
      "cell_type": "code",
      "metadata": {
        "id": "KnmO9kuWfVlP",
        "colab_type": "code",
        "colab": {
          "base_uri": "https://localhost:8080/",
          "height": 50
        },
        "outputId": "8c2ac4c9-5f2b-4b19-fe73-2b5d621a41c6"
      },
      "source": [
        "# Prepare Training data\n",
        "\n",
        "x_train, x_test, y_train, y_test = train_test_split(Train_data, Train_label, test_size=0.2, random_state=42)\n",
        "\n",
        "x_train = np.reshape(x_train, [x_train.shape[0], x_train.shape[1], x_train.shape[2], 1])\n",
        "x_test = np.reshape(x_test, [x_test.shape[0], x_test.shape[1], x_test.shape[2], 1])\n",
        "\n",
        "x = np.reshape(Train_data, [Train_data.shape[0], Train_data.shape[1], Train_data.shape[2], 1])\n",
        "\n",
        "print('Training set: {} and Training Targets: {}'.format(x_train.shape, y_train.shape))\n",
        "print('Test set: {} and test targets: {}'.format(x_test.shape, y_test.shape))\n",
        "\n",
        "## Generate one-hot-vector labels\n",
        "y_train_onehot = keras.utils.to_categorical(y_train)\n",
        "y_test_onehot = keras.utils.to_categorical(y_test)\n",
        "y_onehot = keras.utils.to_categorical(Train_label)\n",
        "# print('First 16 labels: ', y_train[:16])\n",
        "# print('First 16 one-hot labels:\\n', y_train_onehot[:16])"
      ],
      "execution_count": 5,
      "outputs": [
        {
          "output_type": "stream",
          "text": [
            "Training set: (6400, 64, 64, 1) and Training Targets: (6400,)\n",
            "Test set: (1600, 64, 64, 1) and test targets: (1600,)\n"
          ],
          "name": "stdout"
        }
      ]
    },
    {
      "cell_type": "code",
      "metadata": {
        "id": "Kh3iATNaeLuI",
        "colab_type": "code",
        "outputId": "60388d29-7f40-4fbc-9bd9-c6ed45129bfc",
        "colab": {
          "base_uri": "https://localhost:8080/",
          "height": 370
        }
      },
      "source": [
        "### New Colab with Tensorflow version 2.2 (Our Keras Codes works on 1.15.2)\n",
        "\n",
        "# import tensorflow as tf\n",
        "!pip install tensorflow-gpu==1.15.2\n",
        "\n",
        "# Install Runable version (for our codes) tf package. "
      ],
      "execution_count": 6,
      "outputs": [
        {
          "output_type": "stream",
          "text": [
            "Requirement already satisfied: tensorflow-gpu==1.15.2 in /usr/local/lib/python3.6/dist-packages (1.15.2)\n",
            "Requirement already satisfied: keras-preprocessing>=1.0.5 in /usr/local/lib/python3.6/dist-packages (from tensorflow-gpu==1.15.2) (1.1.0)\n",
            "Requirement already satisfied: protobuf>=3.6.1 in /usr/local/lib/python3.6/dist-packages (from tensorflow-gpu==1.15.2) (3.10.0)\n",
            "Requirement already satisfied: tensorboard<1.16.0,>=1.15.0 in /usr/local/lib/python3.6/dist-packages (from tensorflow-gpu==1.15.2) (1.15.0)\n",
            "Requirement already satisfied: six>=1.10.0 in /usr/local/lib/python3.6/dist-packages (from tensorflow-gpu==1.15.2) (1.12.0)\n",
            "Requirement already satisfied: tensorflow-estimator==1.15.1 in /usr/local/lib/python3.6/dist-packages (from tensorflow-gpu==1.15.2) (1.15.1)\n",
            "Requirement already satisfied: wheel>=0.26; python_version >= \"3\" in /usr/local/lib/python3.6/dist-packages (from tensorflow-gpu==1.15.2) (0.34.2)\n",
            "Requirement already satisfied: astor>=0.6.0 in /usr/local/lib/python3.6/dist-packages (from tensorflow-gpu==1.15.2) (0.8.1)\n",
            "Requirement already satisfied: grpcio>=1.8.6 in /usr/local/lib/python3.6/dist-packages (from tensorflow-gpu==1.15.2) (1.27.2)\n",
            "Requirement already satisfied: google-pasta>=0.1.6 in /usr/local/lib/python3.6/dist-packages (from tensorflow-gpu==1.15.2) (0.2.0)\n",
            "Requirement already satisfied: termcolor>=1.1.0 in /usr/local/lib/python3.6/dist-packages (from tensorflow-gpu==1.15.2) (1.1.0)\n",
            "Requirement already satisfied: opt-einsum>=2.3.2 in /usr/local/lib/python3.6/dist-packages (from tensorflow-gpu==1.15.2) (3.2.0)\n",
            "Requirement already satisfied: gast==0.2.2 in /usr/local/lib/python3.6/dist-packages (from tensorflow-gpu==1.15.2) (0.2.2)\n",
            "Requirement already satisfied: numpy<2.0,>=1.16.0 in /usr/local/lib/python3.6/dist-packages (from tensorflow-gpu==1.15.2) (1.18.2)\n",
            "Requirement already satisfied: absl-py>=0.7.0 in /usr/local/lib/python3.6/dist-packages (from tensorflow-gpu==1.15.2) (0.9.0)\n",
            "Requirement already satisfied: keras-applications>=1.0.8 in /usr/local/lib/python3.6/dist-packages (from tensorflow-gpu==1.15.2) (1.0.8)\n",
            "Requirement already satisfied: wrapt>=1.11.1 in /usr/local/lib/python3.6/dist-packages (from tensorflow-gpu==1.15.2) (1.12.1)\n",
            "Requirement already satisfied: setuptools in /usr/local/lib/python3.6/dist-packages (from protobuf>=3.6.1->tensorflow-gpu==1.15.2) (46.0.0)\n",
            "Requirement already satisfied: werkzeug>=0.11.15 in /usr/local/lib/python3.6/dist-packages (from tensorboard<1.16.0,>=1.15.0->tensorflow-gpu==1.15.2) (1.0.0)\n",
            "Requirement already satisfied: markdown>=2.6.8 in /usr/local/lib/python3.6/dist-packages (from tensorboard<1.16.0,>=1.15.0->tensorflow-gpu==1.15.2) (3.2.1)\n",
            "Requirement already satisfied: h5py in /usr/local/lib/python3.6/dist-packages (from keras-applications>=1.0.8->tensorflow-gpu==1.15.2) (2.10.0)\n"
          ],
          "name": "stdout"
        }
      ]
    },
    {
      "cell_type": "code",
      "metadata": {
        "id": "858qVm_Mlwm5",
        "colab_type": "code",
        "colab": {
          "base_uri": "https://localhost:8080/",
          "height": 34
        },
        "outputId": "2f1555fa-7a74-4bf8-b181-1bfd919eb8df"
      },
      "source": [
        "import tensorflow as tf\n",
        "tf.__version__"
      ],
      "execution_count": 7,
      "outputs": [
        {
          "output_type": "execute_result",
          "data": {
            "text/plain": [
              "'1.15.2'"
            ]
          },
          "metadata": {
            "tags": []
          },
          "execution_count": 7
        }
      ]
    },
    {
      "cell_type": "code",
      "metadata": {
        "id": "QRn1Vj1fbwtp",
        "colab_type": "code",
        "colab": {}
      },
      "source": [
        "# A data augmenation package inside Keras\n",
        "\n",
        "datagen = ImageDataGenerator(\n",
        "        featurewise_center=False,  # set input mean to 0 over the dataset\n",
        "        samplewise_center=False,  # set each sample mean to 0\n",
        "        featurewise_std_normalization=False,  # divide inputs by std of the dataset\n",
        "        samplewise_std_normalization=False,  # divide each input by its std\n",
        "        zca_whitening=False,  # apply ZCA whitening\n",
        "        rotation_range=10,  # randomly rotate images in the range (degrees, 0 to 180)\n",
        "        zoom_range = 0.1, # Randomly zoom image \n",
        "        width_shift_range=0.1,  # randomly shift images horizontally (fraction of total width)\n",
        "        height_shift_range=0.1,  # randomly shift images vertically (fraction of total height)\n",
        "        horizontal_flip=False,  # randomly flip images\n",
        "        vertical_flip=False)  # randomly flip images\n",
        "\n",
        "datagen.fit(x_train)"
      ],
      "execution_count": 0,
      "outputs": []
    },
    {
      "cell_type": "code",
      "metadata": {
        "id": "L_5czzis8Os9",
        "colab_type": "code",
        "colab": {
          "base_uri": "https://localhost:8080/",
          "height": 289
        },
        "outputId": "30bd2d9f-ee1d-4997-d5cd-b9c29c9efc5c"
      },
      "source": [
        "\n",
        "model = Sequential()\n",
        "\n",
        "model.add(Conv2D(filters = 32, kernel_size = (7,7),padding = 'Same', \n",
        "                activation ='relu', input_shape = (64,64,1)))\n",
        "model.add(Dropout(0.25))\n",
        "\n",
        "\n",
        "model.add(Flatten())\n",
        "model.add(Dense(256, activation = \"relu\"))\n",
        "model.add(Dropout(0.5))\n",
        "model.add(Dense(16, activation = \"softmax\"))\n",
        "\n",
        "optimizer = RMSprop(lr=0.001, rho=0.9, epsilon=1e-08, decay=0.0)\n",
        "\n",
        "model.compile(optimizer = optimizer , loss = \"categorical_crossentropy\", metrics=[\"accuracy\"])\n"
      ],
      "execution_count": 9,
      "outputs": [
        {
          "output_type": "stream",
          "text": [
            "WARNING:tensorflow:From /usr/local/lib/python3.6/dist-packages/keras/backend/tensorflow_backend.py:66: The name tf.get_default_graph is deprecated. Please use tf.compat.v1.get_default_graph instead.\n",
            "\n",
            "WARNING:tensorflow:From /usr/local/lib/python3.6/dist-packages/keras/backend/tensorflow_backend.py:541: The name tf.placeholder is deprecated. Please use tf.compat.v1.placeholder instead.\n",
            "\n",
            "WARNING:tensorflow:From /usr/local/lib/python3.6/dist-packages/keras/backend/tensorflow_backend.py:4432: The name tf.random_uniform is deprecated. Please use tf.random.uniform instead.\n",
            "\n",
            "WARNING:tensorflow:From /usr/local/lib/python3.6/dist-packages/keras/backend/tensorflow_backend.py:148: The name tf.placeholder_with_default is deprecated. Please use tf.compat.v1.placeholder_with_default instead.\n",
            "\n",
            "WARNING:tensorflow:From /usr/local/lib/python3.6/dist-packages/keras/backend/tensorflow_backend.py:3733: calling dropout (from tensorflow.python.ops.nn_ops) with keep_prob is deprecated and will be removed in a future version.\n",
            "Instructions for updating:\n",
            "Please use `rate` instead of `keep_prob`. Rate should be set to `rate = 1 - keep_prob`.\n",
            "WARNING:tensorflow:From /usr/local/lib/python3.6/dist-packages/keras/optimizers.py:793: The name tf.train.Optimizer is deprecated. Please use tf.compat.v1.train.Optimizer instead.\n",
            "\n",
            "WARNING:tensorflow:From /usr/local/lib/python3.6/dist-packages/keras/backend/tensorflow_backend.py:3576: The name tf.log is deprecated. Please use tf.math.log instead.\n",
            "\n"
          ],
          "name": "stdout"
        }
      ]
    },
    {
      "cell_type": "code",
      "metadata": {
        "id": "g3PdwzJYb1jz",
        "colab_type": "code",
        "colab": {}
      },
      "source": [
        "\n",
        "# Set a learning rate annealer\n",
        "learning_rate_reduction = ReduceLROnPlateau(monitor='val_acc', \n",
        "                                            patience=3, \n",
        "                                            verbose=0, \n",
        "                                            factor=0.5, \n",
        "                                            min_lr=0.00001)"
      ],
      "execution_count": 0,
      "outputs": []
    },
    {
      "cell_type": "code",
      "metadata": {
        "id": "-x9JlaSZ9AG1",
        "colab_type": "code",
        "outputId": "429ccb86-cb55-412e-9561-021c00301c57",
        "colab": {
          "base_uri": "https://localhost:8080/",
          "height": 353
        }
      },
      "source": [
        "\n",
        "epochs = 10\n",
        "\n",
        "history = model.fit_generator(datagen.flow(x_train,y_train_onehot, batch_size=64),\n",
        "    epochs = epochs, steps_per_epoch = x.shape[0]//64,  \n",
        "    validation_data = (x_test,y_test_onehot), callbacks=[learning_rate_reduction], verbose=1)"
      ],
      "execution_count": 15,
      "outputs": [
        {
          "output_type": "stream",
          "text": [
            "Epoch 1/10\n",
            "125/125 [==============================] - 4s 34ms/step - loss: 0.6672 - acc: 0.7618 - val_loss: 0.4008 - val_acc: 0.8544\n",
            "Epoch 2/10\n",
            "125/125 [==============================] - 4s 34ms/step - loss: 0.6290 - acc: 0.7749 - val_loss: 0.4086 - val_acc: 0.8556\n",
            "Epoch 3/10\n",
            "125/125 [==============================] - 4s 34ms/step - loss: 0.5984 - acc: 0.7873 - val_loss: 0.3192 - val_acc: 0.8850\n",
            "Epoch 4/10\n",
            "125/125 [==============================] - 4s 33ms/step - loss: 0.5588 - acc: 0.7995 - val_loss: 0.3292 - val_acc: 0.8775\n",
            "Epoch 5/10\n",
            "125/125 [==============================] - 4s 34ms/step - loss: 0.5034 - acc: 0.8169 - val_loss: 0.3012 - val_acc: 0.8788\n",
            "Epoch 6/10\n",
            "125/125 [==============================] - 4s 34ms/step - loss: 0.4769 - acc: 0.8340 - val_loss: 0.2595 - val_acc: 0.9012\n",
            "Epoch 7/10\n",
            "125/125 [==============================] - 4s 34ms/step - loss: 0.4596 - acc: 0.8381 - val_loss: 0.2532 - val_acc: 0.9081\n",
            "Epoch 8/10\n",
            "125/125 [==============================] - 4s 34ms/step - loss: 0.4426 - acc: 0.8440 - val_loss: 0.2418 - val_acc: 0.9044\n",
            "Epoch 9/10\n",
            "125/125 [==============================] - 4s 34ms/step - loss: 0.4229 - acc: 0.8534 - val_loss: 0.2099 - val_acc: 0.9250\n",
            "Epoch 10/10\n",
            "125/125 [==============================] - 4s 33ms/step - loss: 0.4162 - acc: 0.8586 - val_loss: 0.1870 - val_acc: 0.9356\n"
          ],
          "name": "stdout"
        }
      ]
    },
    {
      "cell_type": "code",
      "metadata": {
        "id": "S07srAi7z0al",
        "colab_type": "code",
        "colab": {}
      },
      "source": [
        "# from keras.models import load_model\n",
        "# model = load_model('bestmodel_v6.h5')"
      ],
      "execution_count": 0,
      "outputs": []
    },
    {
      "cell_type": "code",
      "metadata": {
        "id": "aNFCbsH6l8V5",
        "colab_type": "code",
        "colab": {}
      },
      "source": [
        "# test data\n",
        "Test_data = np.load('Competition_Problems.npy') \n",
        "Test_data.shape"
      ],
      "execution_count": 0,
      "outputs": []
    },
    {
      "cell_type": "code",
      "metadata": {
        "id": "ecwi7lmVmAGH",
        "colab_type": "code",
        "outputId": "12363156-0e27-4c2e-cd59-6ab9108f7acf",
        "colab": {
          "base_uri": "https://localhost:8080/",
          "height": 370
        }
      },
      "source": [
        "rec = []\n",
        "Testsize = 20000\n",
        "for i in range(Testsize):\n",
        "    if i % 1000 == 0:\n",
        "        print(i)\n",
        "    img = Test_data[i][:,250:322]\n",
        "    img = cv2.resize(img, (64,64))\n",
        "    img_ = np.reshape(img, [1, img.shape[0], img.shape[1], 1])\n",
        "\n",
        "    y_test_pred = model.predict(img_, verbose=0)\n",
        "    y_test_pred = np.argmax(y_test_pred,axis = 1)   \n",
        "\n",
        "    img2 = Test_data[i][:,315:384]\n",
        "    img2 = cv2.resize(img2, (64,64))    \n",
        "    img2_ = np.reshape(img2, [1, img2.shape[0], img2.shape[1], 1])    \n",
        "\n",
        "    y_test_pred2 = model.predict(img2_, verbose=0)\n",
        "    y_test_pred2 = np.argmax(y_test_pred2,axis = 1)    \n",
        "    \n",
        "    img3 = Test_data[i][:,60:130]\n",
        "    img3 = cv2.resize(img3, (64,64))    \n",
        "    img3_ = np.reshape(img3, [1, img3.shape[0], img3.shape[1], 1])    \n",
        "\n",
        "    y_test_pred3 = model.predict(img3_, verbose=0)\n",
        "    y_test_pred3 = np.argmax(y_test_pred3,axis = 1)    \n",
        "\n",
        "    # grading\n",
        "    ## equ 1\n",
        "    if y_test_pred3 == 0:\n",
        "        if y_test_pred == 7:\n",
        "            if y_test_pred2 == 11:\n",
        "                rec.append(10)\n",
        "            else:\n",
        "                rec.append(9) \n",
        "                \n",
        "        elif y_test_pred == 12:\n",
        "            if y_test_pred2 == 11:\n",
        "                rec.append(5)\n",
        "            else:\n",
        "                rec.append(0)\n",
        "                \n",
        "        else:\n",
        "            rec.append(0)\n",
        "            \n",
        "    ### equ 2   \n",
        "    elif y_test_pred3 == 1:\n",
        "        if y_test_pred == 8:\n",
        "            if y_test_pred2 == 11:\n",
        "                rec.append(10)\n",
        "            else:\n",
        "                rec.append(9) \n",
        "                \n",
        "        elif y_test_pred == 13:\n",
        "            if y_test_pred2 == 11:\n",
        "                rec.append(5)\n",
        "            else:\n",
        "                rec.append(0)\n",
        "\n",
        "        elif y_test_pred == 4:\n",
        "            if y_test_pred2 == 11:\n",
        "                rec.append(2)\n",
        "            else:\n",
        "                rec.append(1)\n",
        "        else:\n",
        "            rec.append(0) \n",
        "    \n",
        "    ### equ 3 \n",
        "    elif y_test_pred3 == 2:\n",
        "        if y_test_pred == 9:\n",
        "            if y_test_pred2 == 11:\n",
        "                rec.append(10)\n",
        "            else:\n",
        "                rec.append(9) \n",
        "                \n",
        "        elif y_test_pred == 14:\n",
        "            if y_test_pred2 == 11:\n",
        "                rec.append(5)\n",
        "            else:\n",
        "                rec.append(0)\n",
        "\n",
        "        elif y_test_pred == 5:\n",
        "            if y_test_pred2 == 11:\n",
        "                rec.append(2)\n",
        "            else:\n",
        "                rec.append(1)\n",
        "        else:\n",
        "            rec.append(0) \n",
        "\n",
        "    ### equ 4 \n",
        "    elif y_test_pred3 == 3:\n",
        "        if y_test_pred == 10:\n",
        "            if y_test_pred2 == 11:\n",
        "                rec.append(10)\n",
        "            else:\n",
        "                rec.append(9) \n",
        "                \n",
        "        elif y_test_pred == 15:\n",
        "            if y_test_pred2 == 11:\n",
        "                rec.append(5)\n",
        "            else:\n",
        "                rec.append(0)\n",
        "\n",
        "        elif y_test_pred == 6:\n",
        "            if y_test_pred2 == 11:\n",
        "                rec.append(2)\n",
        "            else:\n",
        "                rec.append(1)\n",
        "        else:\n",
        "            rec.append(0) \n",
        "\n",
        "    ### equ 5 \n",
        "    elif y_test_pred3 == 4:\n",
        "        if y_test_pred == 1:\n",
        "            if y_test_pred2 == 11:\n",
        "                rec.append(10)\n",
        "            else:\n",
        "                rec.append(9) \n",
        "        else:\n",
        "            rec.append(0) \n",
        "            \n",
        "    ### equ 6 \n",
        "    elif y_test_pred3 == 5:\n",
        "        if y_test_pred == 2:\n",
        "            if y_test_pred2 == 11:\n",
        "                rec.append(10)\n",
        "            else:\n",
        "                rec.append(9) \n",
        "        else:\n",
        "            rec.append(0) \n",
        "            \n",
        "    ### equ 7 \n",
        "    elif y_test_pred3 == 6:\n",
        "        if y_test_pred == 3:\n",
        "            if y_test_pred2 == 11:\n",
        "                rec.append(10)\n",
        "            else:\n",
        "                rec.append(9) \n",
        "        else:\n",
        "            rec.append(0) \n",
        "    \n",
        "    else:\n",
        "        rec.append(0)\n",
        "            \n",
        "print(len(rec))"
      ],
      "execution_count": 19,
      "outputs": [
        {
          "output_type": "stream",
          "text": [
            "0\n",
            "1000\n",
            "2000\n",
            "3000\n",
            "4000\n",
            "5000\n",
            "6000\n",
            "7000\n",
            "8000\n",
            "9000\n",
            "10000\n",
            "11000\n",
            "12000\n",
            "13000\n",
            "14000\n",
            "15000\n",
            "16000\n",
            "17000\n",
            "18000\n",
            "19000\n",
            "20000\n"
          ],
          "name": "stdout"
        }
      ]
    },
    {
      "cell_type": "code",
      "metadata": {
        "id": "OSxedJAVFPx0",
        "colab_type": "code",
        "colab": {
          "base_uri": "https://localhost:8080/",
          "height": 229
        },
        "outputId": "5b7319ef-acfa-42a4-e8de-e5d5d7cb7e45"
      },
      "source": [
        "# Transfer to numpy\n",
        "result = np.array(rec)\n",
        "\n",
        "## save to your own directory\n",
        "np.save('/content/drive/My Drive/2020datacamp/rec_24_cnn.npy',result)"
      ],
      "execution_count": 2,
      "outputs": [
        {
          "output_type": "error",
          "ename": "NameError",
          "evalue": "ignored",
          "traceback": [
            "\u001b[0;31m---------------------------------------------------------------------------\u001b[0m",
            "\u001b[0;31mNameError\u001b[0m                                 Traceback (most recent call last)",
            "\u001b[0;32m<ipython-input-2-7665b980982e>\u001b[0m in \u001b[0;36m<module>\u001b[0;34m()\u001b[0m\n\u001b[0;32m----> 1\u001b[0;31m \u001b[0mresult\u001b[0m \u001b[0;34m=\u001b[0m \u001b[0mnp\u001b[0m\u001b[0;34m.\u001b[0m\u001b[0marray\u001b[0m\u001b[0;34m(\u001b[0m\u001b[0mrec\u001b[0m\u001b[0;34m)\u001b[0m\u001b[0;34m\u001b[0m\u001b[0;34m\u001b[0m\u001b[0m\n\u001b[0m\u001b[1;32m      2\u001b[0m \u001b[0;34m\u001b[0m\u001b[0m\n\u001b[1;32m      3\u001b[0m \u001b[0;31m## save to your own directory\u001b[0m\u001b[0;34m\u001b[0m\u001b[0;34m\u001b[0m\u001b[0;34m\u001b[0m\u001b[0m\n\u001b[1;32m      4\u001b[0m \u001b[0;34m\u001b[0m\u001b[0m\n\u001b[1;32m      5\u001b[0m \u001b[0mnp\u001b[0m\u001b[0;34m.\u001b[0m\u001b[0msave\u001b[0m\u001b[0;34m(\u001b[0m\u001b[0;34m'/content/drive/My Drive/2020datacamp/rec_24_cnn.npy'\u001b[0m\u001b[0;34m,\u001b[0m\u001b[0mresult\u001b[0m\u001b[0;34m)\u001b[0m\u001b[0;34m\u001b[0m\u001b[0;34m\u001b[0m\u001b[0m\n",
            "\u001b[0;31mNameError\u001b[0m: name 'np' is not defined"
          ]
        }
      ]
    },
    {
      "cell_type": "code",
      "metadata": {
        "id": "I0j6eF8Mf-i-",
        "colab_type": "code",
        "colab": {}
      },
      "source": [
        "# Now your are ready to submit \n"
      ],
      "execution_count": 0,
      "outputs": []
    }
  ]
}